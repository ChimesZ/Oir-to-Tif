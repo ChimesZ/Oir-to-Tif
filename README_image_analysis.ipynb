{
 "cells": [
  {
   "cell_type": "markdown",
   "metadata": {},
   "source": [
    "## Use the CRaftID environment described in sequence analysis section##\n",
    "\n",
    "Each command will take just a few seconds to run on the single image file provided.\n",
    "\n",
    "**Scripts required:** \n",
    "\n",
    "    stage_position_from_olympus.py\n",
    "    make_processing_macro_olympus.py\n",
    "    \n",
    "**imports**\n",
    "\n",
    "    import make_processing_macro_olympus as mpo\n",
    "    import stage_position_from_olympus as spo\n",
    "    import detect_squares_v2 as grid\n",
    "    \n",
    "    import glob\n",
    "    import os"
   ]
  },
  {
   "cell_type": "markdown",
   "metadata": {},
   "source": [
    "# (pre-processing) Generate Maximum Projected Tif files from .oir Files Outputted from Microscope\n",
    "\n",
    "The example provided with this code will take .oir files from the Olympus FV3000 microscope with 3 color channels (red, blue, and brightfield) and 5 z-planes. Slight modifications may be required with other setups. \n",
    "\n",
    "**Inputs:**\n",
    "\n",
    "    1) input_data: Directory where .oir files exist\n",
    "    \n",
    "    2) tif_files: Directory where .tif files will be saved after running the macro in Fiji (outside this notebook)\n",
    "    \n",
    "    3) common_name_prefix: common prefix in name of all .oir files from the experiment\n",
    "    \n",
    "    4) file_list: output from mpo.get_file_list(num_files)\n",
    "    \n",
    "    5) macro_file_dir: Folder where macro will be saved\n",
    "    \n",
    "**Outputs:**\n",
    "\n",
    "    Will generate a file called oir_macro.ijm in the assigned folder that can be run in Fiji to process all oir images into a max-projection image for each color channel saved as .tif files in the assigned save_directory.\n",
    "    \n",
    "    Must run this file in Fiji with \"Plugins\" - \"Macros\" - \"Run\" to process the images."
   ]
  },
  {
   "cell_type": "markdown",
   "metadata": {},
   "source": [
    "**Example command:**"
   ]
  },
  {
   "cell_type": "code",
   "execution_count": null,
   "metadata": {},
   "outputs": [],
   "source": [
    "import make_processing_macro_olympus as mpo\n",
    "import glob\n",
    "import os\n",
    "\n",
    "input_data = \"/Users/apple/Yi Lab/2021-11-08/oir-tif test/fos-mch-38/\" \n",
    "tif_files = \"/Users/apple/Yi Lab/2021-11-08/oir-tif test/tif/\"\n",
    "macro_file_dir = \"/Users/apple/Yi Lab/2021-11-08/oir-tif test/\"\n",
    "\n",
    "if not os.path.exists(tif_files):\n",
    "    ! mkdir $tif_files\n",
    "if not os.path.exists(macro_file_dir):\n",
    "    ! mkdir $macro_file_dir\n",
    "\n",
    "num_files = len(glob.glob(input_data+\"*.oir\"))\n",
    "file_list = ['0001', '0002', '0003', '0004']\n",
    "\n",
    "common_name_prefix = [\"DG green baseline_A01_G001_\",\"DG red baseline_A01_G001_\"]\n",
    "\n",
    "mpo.make_macro_3_channels(input_data, tif_files, common_name_prefix, file_list, macro_file_dir)"
   ]
  },
  {
   "cell_type": "markdown",
   "metadata": {},
   "source": [
    " (pre-processing) Run the file ```oir_macro.ijm``` in Fiji with \"Plugins\" - \"Macros\" - \"Run\" to process the images."
   ]
  }
 ],
 "metadata": {
  "interpreter": {
   "hash": "ec68de76f025817d78ac7598be1625726c8e68d7c90ba087e2c3c50418b03240"
  },
  "kernelspec": {
   "display_name": "Python 3.8.5 ('freq-u')",
   "language": "python",
   "name": "python3"
  },
  "language_info": {
   "codemirror_mode": {
    "name": "ipython",
    "version": 3
   },
   "file_extension": ".py",
   "mimetype": "text/x-python",
   "name": "python",
   "nbconvert_exporter": "python",
   "pygments_lexer": "ipython3",
   "version": "3.8.5"
  }
 },
 "nbformat": 4,
 "nbformat_minor": 2
}
