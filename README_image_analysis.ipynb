{
 "cells": [
  {
   "cell_type": "markdown",
   "metadata": {},
   "source": [
    "## Use the CRaftID environment described in sequence analysis section##\n",
    "\n",
    "Each command will take just a few seconds to run on the single image file provided.\n",
    "\n",
    "**Scripts required:** \n",
    "\n",
    "    stage_position_from_olympus.py\n",
    "    make_processing_macro_olympus.py\n",
    "    \n",
    "**imports**\n",
    "\n",
    "    import make_processing_macro_olympus as mpo\n",
    "    import stage_position_from_olympus as spo\n",
    "    import detect_squares_v2 as grid\n",
    "    \n",
    "    import glob\n",
    "    import os"
   ]
  },
  {
   "cell_type": "markdown",
   "metadata": {},
   "source": [
    "# (pre-processing) Generate Maximum Projected Tif files from .oir Files Outputted from Microscope\n",
    "\n",
    "The example provided with this code will take .oir files from the Olympus FV3000 microscope with 3 color channels (red, blue, and brightfield) and 5 z-planes. Slight modifications may be required with other setups. \n",
    "\n",
    "**Inputs:**\n",
    "\n",
    "    1) input_data: Directory where .oir files exist\n",
    "    \n",
    "    2) tif_files: Directory where .tif files will be saved after running the macro in Fiji (outside this notebook)\n",
    "    \n",
    "    3) common_name_prefix: common prefix in name of all .oir files from the experiment\n",
    "    \n",
    "    4) file_list: output from mpo.get_file_list(num_files)\n",
    "    \n",
    "    5) macro_file_dir: Folder where macro will be saved\n",
    "    \n",
    "**Outputs:**\n",
    "\n",
    "    Will generate a file called oir_macro.ijm in the assigned folder that can be run in Fiji to process all oir images into a max-projection image for each color channel saved as .tif files in the assigned save_directory.\n",
    "    \n",
    "    Must run this file in Fiji with \"Plugins\" - \"Macros\" - \"Run\" to process the images."
   ]
  },
  {
   "cell_type": "markdown",
   "metadata": {},
   "source": [
    "**Example command:**"
   ]
  },
  {
   "cell_type": "code",
   "execution_count": 1,
   "metadata": {},
   "outputs": [],
   "source": [
    "import make_processing_macro_olympus as mpo\n",
    "import glob\n",
    "import os\n",
    "\n",
    "input_data = \"E:/zzh test/Fos-mch-38/oir/\"\n",
    "tif_files = \"E:/zzh test/Fos-mch-38/tif/\"\n",
    "macro_file_dir = \"E:/zzh test/Fos-mch-38/\"\n",
    "\n",
    "if not os.path.exists(tif_files):\n",
    "    ! mkdir $tif_files\n",
    "if not os.path.exists(macro_file_dir):\n",
    "    ! mkdir $macro_file_dir\n",
    "\n",
    "num_files = len(glob.glob(input_data+\"*.oir\"))\n",
    "file_list = ['0001', '0002', '0003', '0004']\n",
    "\n",
    "common_name_prefix = [\"DG green baseline_A01_G001_\",\"Dg green trace fear_A01_G001_\",\"Dg green trace recall awake_A01_G001_\",\"Dg green trace recall sleeping_A01_G001_\",\"DG red baseline_A01_G001_\",\"Dg red trace fear_A01_G001_\",\"Dg red trace recall awake_A01_G001_\",\"Dg red trace recall sleeping_A01_G001_\"]\n",
    "tif_name = [\"0st_recall_green\",\"ref_green\",\"2nd_recall_green\",\"1st_recall_green\",\"0st_recall_red\",\"ref_red\",\"2nd_recall_red\",\"1st_recall_red\"]\n",
    "\n",
    "mpo.make_macro_3_channels(input_data, tif_files, common_name_prefix, file_list, macro_file_dir, tif_name)"
   ]
  },
  {
   "cell_type": "markdown",
   "metadata": {},
   "source": [
    " (pre-processing) Run the file ```oir_macro.ijm``` in Fiji with \"Plugins\" - \"Macros\" - \"Run\" to process the images."
   ]
  }
 ],
 "metadata": {
  "interpreter": {
   "hash": "ad2bdc8ecc057115af97d19610ffacc2b4e99fae6737bb82f5d7fb13d2f2c186"
  },
  "kernelspec": {
   "display_name": "Python 3.8.8 ('base')",
   "language": "python",
   "name": "python3"
  },
  "language_info": {
   "codemirror_mode": {
    "name": "ipython",
    "version": 3
   },
   "file_extension": ".py",
   "mimetype": "text/x-python",
   "name": "python",
   "nbconvert_exporter": "python",
   "pygments_lexer": "ipython3",
   "version": "3.8.8"
  }
 },
 "nbformat": 4,
 "nbformat_minor": 2
}
